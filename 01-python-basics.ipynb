{
  "nbformat": 4,
  "nbformat_minor": 0,
  "metadata": {
    "colab": {
      "name": "01-python-basics.ipynb",
      "provenance": [],
      "include_colab_link": true
    },
    "kernelspec": {
      "display_name": "Python 3",
      "language": "python",
      "name": "python3"
    },
    "language_info": {
      "codemirror_mode": {
        "name": "ipython",
        "version": 3
      },
      "file_extension": ".py",
      "mimetype": "text/x-python",
      "name": "python",
      "nbconvert_exporter": "python",
      "pygments_lexer": "ipython3",
      "version": "3.8.2"
    }
  },
  "cells": [
    {
      "cell_type": "markdown",
      "metadata": {
        "id": "view-in-github",
        "colab_type": "text"
      },
      "source": [
        "<a href=\"https://colab.research.google.com/github/changsin/DeepLearningMadeEasy/blob/main/01-python-basics.ipynb\" target=\"_parent\"><img src=\"https://colab.research.google.com/assets/colab-badge.svg\" alt=\"Open In Colab\"/></a>"
      ]
    },
    {
      "cell_type": "markdown",
      "metadata": {
        "id": "yxFqbZEi9-WV"
      },
      "source": [
        "If you are already familiar with Python, you can skip this section entirely. This is not meant to be a complete overview of the language, but just a short review of Python basic data types."
      ]
    },
    {
      "cell_type": "code",
      "metadata": {
        "id": "gcv7WYOa94-q"
      },
      "source": [
        "import array\n",
        "import numpy as np"
      ],
      "execution_count": 1,
      "outputs": []
    },
    {
      "cell_type": "code",
      "metadata": {
        "colab": {
          "base_uri": "https://localhost:8080/",
          "height": 34
        },
        "id": "pOB0ui-Nsktd",
        "outputId": "3e611884-e140-4f1b-8b39-606500071587"
      },
      "source": [
        "print('Hello world')"
      ],
      "execution_count": null,
      "outputs": [
        {
          "output_type": "stream",
          "text": [
            "Hello world\n"
          ],
          "name": "stdout"
        }
      ]
    },
    {
      "cell_type": "markdown",
      "metadata": {
        "id": "s1b2FosJsrP2",
        "outputId": "c017cf91-4ed1-4ea7-d97a-e077e35c3b89"
      },
      "source": [
        "# Python native data types\n",
        "Python has many native datatypes. Here are the important ones:\n",
        "\n",
        " - **Booleans** are either `True` or `False`.\n",
        " - **Numbers** can be integers (1 and 2), floats (1.1 and 1.2), fractions (1/2 and 2/3), or even complex numbers.\n",
        " - **Strings** are sequences of Unicode characters, e.g. an html document.\n",
        " - **Lists** are ordered sequences of values. Can be different types.\n",
        " - **Arrays** are ordered sequences of values of the same type. The size needs to be predefined.\n",
        " - **Tuples** are ordered, immutable sequences of values.\n",
        " - **Sets** are unordered bags of values.\n",
        " - **Dictionaries** are unordered bags of key-value pairs.\n",
        " \n",
        "See [here](http://www.diveintopython3.net/native-datatypes.html) for a complete overview.\n"
      ]
    },
    {
      "cell_type": "code",
      "metadata": {
        "id": "Hg3_piR5yNdr",
        "outputId": "a0d9cabc-62c5-4b47-dc1b-dbaf4fcdc8df"
      },
      "source": [
        "b = True\n",
        "type(b)"
      ],
      "execution_count": null,
      "outputs": [
        {
          "output_type": "execute_result",
          "data": {
            "text/plain": [
              "bool"
            ]
          },
          "metadata": {
            "tags": []
          },
          "execution_count": 1
        }
      ]
    },
    {
      "cell_type": "code",
      "metadata": {
        "id": "uxHVe-vp94-6",
        "outputId": "d4980486-4967-4363-c8ef-2545309f08fc"
      },
      "source": [
        "s = \"this is a string\"\n",
        "type(s)"
      ],
      "execution_count": null,
      "outputs": [
        {
          "output_type": "execute_result",
          "data": {
            "text/plain": [
              "str"
            ]
          },
          "metadata": {
            "tags": []
          },
          "execution_count": 2
        }
      ]
    },
    {
      "cell_type": "code",
      "metadata": {
        "id": "73AzP5og94-6",
        "outputId": "10cfe9da-e47d-4266-927c-7f0d7a659a11"
      },
      "source": [
        "mylist = [1, 2, 3]\n",
        "print(type(mylist))\n",
        "print(mylist)"
      ],
      "execution_count": null,
      "outputs": [
        {
          "output_type": "stream",
          "text": [
            "<class 'list'>\n",
            "[1, 2, 3]\n"
          ],
          "name": "stdout"
        }
      ]
    },
    {
      "cell_type": "code",
      "metadata": {
        "id": "SN48rxR894-7",
        "outputId": "05c191bd-3a34-4ced-ca1b-d268a2215c2a"
      },
      "source": [
        "a1 = array.array(\"i\", [3, 6, 9, 12])\n",
        "print(type(a1))\n",
        "print(a1)"
      ],
      "execution_count": null,
      "outputs": [
        {
          "output_type": "stream",
          "text": [
            "<class 'list'>\n",
            "array('i', [3, 6, 9, 12])\n"
          ],
          "name": "stdout"
        }
      ]
    },
    {
      "cell_type": "code",
      "metadata": {
        "id": "tuOZnI1c94-7",
        "outputId": "fb230063-0305-4fd3-df6b-2e11599ead1b"
      },
      "source": [
        "my_tuple = ('value', 12)\n",
        "print(type(my_tuple))\n",
        "print(my_tuple)"
      ],
      "execution_count": null,
      "outputs": [
        {
          "output_type": "stream",
          "text": [
            "<class 'tuple'>\n",
            "('value', 12)\n"
          ],
          "name": "stdout"
        }
      ]
    },
    {
      "cell_type": "code",
      "metadata": {
        "id": "1qaZ-gL894-7",
        "outputId": "328ef774-4f0b-4e0b-fa9e-bf750d8e1525"
      },
      "source": [
        "my_set = set([1, 2, 2, 3])\n",
        "print(type(my_set))\n",
        "print(my_set)"
      ],
      "execution_count": null,
      "outputs": [
        {
          "output_type": "stream",
          "text": [
            "<class 'set'>\n",
            "{1, 2, 3}\n"
          ],
          "name": "stdout"
        }
      ]
    },
    {
      "cell_type": "code",
      "metadata": {
        "id": "bZUTzywx94-8",
        "outputId": "c1d80838-f4fa-41c8-9c6e-1e3840804ee9"
      },
      "source": [
        "d = dict()\n",
        "d['name'] = 'test'\n",
        "\n",
        "print(type(d))\n",
        "print(d)"
      ],
      "execution_count": null,
      "outputs": [
        {
          "output_type": "stream",
          "text": [
            "<class 'dict'>\n",
            "{'name': 'test'}\n"
          ],
          "name": "stdout"
        }
      ]
    },
    {
      "cell_type": "code",
      "metadata": {
        "id": "5o8zsCBdIpjJ"
      },
      "source": [
        "A = np.array([1, 2, 3, 4])"
      ],
      "execution_count": 3,
      "outputs": []
    },
    {
      "cell_type": "code",
      "metadata": {
        "id": "fky4btXjI2dg",
        "outputId": "58b32f06-5abe-4b57-e14a-39a8086d5c87",
        "colab": {
          "base_uri": "https://localhost:8080/"
        }
      },
      "source": [
        "A.shape"
      ],
      "execution_count": 4,
      "outputs": [
        {
          "output_type": "execute_result",
          "data": {
            "text/plain": [
              "(4,)"
            ]
          },
          "metadata": {
            "tags": []
          },
          "execution_count": 4
        }
      ]
    },
    {
      "cell_type": "code",
      "metadata": {
        "id": "LE0QStArI3ar",
        "outputId": "bfafbaed-90d2-4f53-d336-c270fb8c1b32",
        "colab": {
          "base_uri": "https://localhost:8080/"
        }
      },
      "source": [
        "type(A)"
      ],
      "execution_count": 8,
      "outputs": [
        {
          "output_type": "execute_result",
          "data": {
            "text/plain": [
              "numpy.ndarray"
            ]
          },
          "metadata": {
            "tags": []
          },
          "execution_count": 8
        }
      ]
    },
    {
      "cell_type": "code",
      "metadata": {
        "id": "ApPPUza7I8RL",
        "outputId": "bc392674-0f80-4fbc-d53e-16cd2024ac16",
        "colab": {
          "base_uri": "https://localhost:8080/"
        }
      },
      "source": [
        "B = np.array([[1, 2, 3, 4], [2, 2, 3, 3]])\n",
        "B.shape"
      ],
      "execution_count": 6,
      "outputs": [
        {
          "output_type": "execute_result",
          "data": {
            "text/plain": [
              "(2, 4)"
            ]
          },
          "metadata": {
            "tags": []
          },
          "execution_count": 6
        }
      ]
    },
    {
      "cell_type": "code",
      "metadata": {
        "id": "V2NLKGCMJEhD",
        "outputId": "e7cd897b-54f8-41cf-bdce-a2a12bc7db87",
        "colab": {
          "base_uri": "https://localhost:8080/"
        }
      },
      "source": [
        "type(B)"
      ],
      "execution_count": 7,
      "outputs": [
        {
          "output_type": "execute_result",
          "data": {
            "text/plain": [
              "numpy.ndarray"
            ]
          },
          "metadata": {
            "tags": []
          },
          "execution_count": 7
        }
      ]
    },
    {
      "cell_type": "code",
      "metadata": {
        "id": "igvS8mreJGvA"
      },
      "source": [
        ""
      ],
      "execution_count": null,
      "outputs": []
    }
  ]
}